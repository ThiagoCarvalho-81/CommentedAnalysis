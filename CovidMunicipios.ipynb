{
 "cells": [
  {
   "cell_type": "code",
   "execution_count": 1,
   "metadata": {},
   "outputs": [],
   "source": [
    "import pandas as pd\n",
    "covid_deaths = 3650 "
   ]
  },
  {
   "cell_type": "code",
   "execution_count": 2,
   "metadata": {},
   "outputs": [],
   "source": [
    "url_populacao = 'http://api.sidra.ibge.gov.br/values/t/6579/P/2020/n6/all?formato=json'\n",
    "municipios = pd.read_json(url_populacao)[1:]"
   ]
  },
  {
   "cell_type": "code",
   "execution_count": 3,
   "metadata": {},
   "outputs": [],
   "source": [
    "municipios.rename(columns={\"D2C\": \"Codigo\", \"D2N\": \"Municipio\", \"V\":\"Populacao\"}, inplace=True)\n",
    "municipios = municipios[['Codigo', 'Municipio', 'Populacao']]\n",
    "municipios['Codigo'] = pd.to_numeric(municipios['Codigo'])\n",
    "municipios['Codigo2'] = municipios['Codigo'].apply(lambda x: x // 10)\n",
    "municipios['Populacao'] = pd.to_numeric(municipios['Populacao'])"
   ]
  },
  {
   "cell_type": "code",
   "execution_count": 4,
   "metadata": {},
   "outputs": [
    {
     "data": {
      "text/plain": [
       "<bound method DataFrame.info of        Codigo                   Municipio  Populacao  Codigo2\n",
       "1     1100015  Alta Floresta D'Oeste - RO      22728   110001\n",
       "2     1100023              Ariquemes - RO     109523   110002\n",
       "3     1100031                 Cabixi - RO       5188   110003\n",
       "4     1100049                 Cacoal - RO      85893   110004\n",
       "5     1100056             Cerejeiras - RO      16204   110005\n",
       "...       ...                         ...        ...      ...\n",
       "5566  5222005             Vianópolis - GO      13977   522200\n",
       "5567  5222054         Vicentinópolis - GO       8873   522205\n",
       "5568  5222203               Vila Boa - GO       6312   522220\n",
       "5569  5222302          Vila Propício - GO       5882   522230\n",
       "5570  5300108               Brasília - DF    3055149   530010\n",
       "\n",
       "[5570 rows x 4 columns]>"
      ]
     },
     "execution_count": 4,
     "metadata": {},
     "output_type": "execute_result"
    }
   ],
   "source": [
    "municipios.info"
   ]
  },
  {
   "cell_type": "code",
   "execution_count": 5,
   "metadata": {},
   "outputs": [
    {
     "data": {
      "text/html": [
       "<div>\n",
       "<style scoped>\n",
       "    .dataframe tbody tr th:only-of-type {\n",
       "        vertical-align: middle;\n",
       "    }\n",
       "\n",
       "    .dataframe tbody tr th {\n",
       "        vertical-align: top;\n",
       "    }\n",
       "\n",
       "    .dataframe thead th {\n",
       "        text-align: right;\n",
       "    }\n",
       "</style>\n",
       "<table border=\"1\" class=\"dataframe\">\n",
       "  <thead>\n",
       "    <tr style=\"text-align: right;\">\n",
       "      <th></th>\n",
       "      <th>Codigo</th>\n",
       "      <th>Municipio</th>\n",
       "      <th>Populacao</th>\n",
       "      <th>Codigo2</th>\n",
       "    </tr>\n",
       "  </thead>\n",
       "  <tbody>\n",
       "    <tr>\n",
       "      <th>33</th>\n",
       "      <td>1100908</td>\n",
       "      <td>Castanheiras - RO</td>\n",
       "      <td>2987</td>\n",
       "      <td>110090</td>\n",
       "    </tr>\n",
       "    <tr>\n",
       "      <th>43</th>\n",
       "      <td>1101468</td>\n",
       "      <td>Pimenteiras do Oeste - RO</td>\n",
       "      <td>2148</td>\n",
       "      <td>110146</td>\n",
       "    </tr>\n",
       "    <tr>\n",
       "      <th>44</th>\n",
       "      <td>1101476</td>\n",
       "      <td>Primavera de Rondônia - RO</td>\n",
       "      <td>2776</td>\n",
       "      <td>110147</td>\n",
       "    </tr>\n",
       "    <tr>\n",
       "      <th>106</th>\n",
       "      <td>1302108</td>\n",
       "      <td>Japurá - AM</td>\n",
       "      <td>2251</td>\n",
       "      <td>130210</td>\n",
       "    </tr>\n",
       "    <tr>\n",
       "      <th>168</th>\n",
       "      <td>1501253</td>\n",
       "      <td>Bannach - PA</td>\n",
       "      <td>3262</td>\n",
       "      <td>150125</td>\n",
       "    </tr>\n",
       "    <tr>\n",
       "      <th>312</th>\n",
       "      <td>1700251</td>\n",
       "      <td>Abreulândia - TO</td>\n",
       "      <td>2594</td>\n",
       "      <td>170025</td>\n",
       "    </tr>\n",
       "    <tr>\n",
       "      <th>318</th>\n",
       "      <td>1701051</td>\n",
       "      <td>Angico - TO</td>\n",
       "      <td>3454</td>\n",
       "      <td>170105</td>\n",
       "    </tr>\n",
       "    <tr>\n",
       "      <th>332</th>\n",
       "      <td>1703057</td>\n",
       "      <td>Bandeirantes do Tocantins - TO</td>\n",
       "      <td>3592</td>\n",
       "      <td>170305</td>\n",
       "    </tr>\n",
       "    <tr>\n",
       "      <th>337</th>\n",
       "      <td>1703602</td>\n",
       "      <td>Brasilândia do Tocantins - TO</td>\n",
       "      <td>2211</td>\n",
       "      <td>170360</td>\n",
       "    </tr>\n",
       "    <tr>\n",
       "      <th>340</th>\n",
       "      <td>1703826</td>\n",
       "      <td>Cachoeirinha - TO</td>\n",
       "      <td>2284</td>\n",
       "      <td>170382</td>\n",
       "    </tr>\n",
       "  </tbody>\n",
       "</table>\n",
       "</div>"
      ],
      "text/plain": [
       "      Codigo                       Municipio  Populacao  Codigo2\n",
       "33   1100908               Castanheiras - RO       2987   110090\n",
       "43   1101468       Pimenteiras do Oeste - RO       2148   110146\n",
       "44   1101476      Primavera de Rondônia - RO       2776   110147\n",
       "106  1302108                     Japurá - AM       2251   130210\n",
       "168  1501253                    Bannach - PA       3262   150125\n",
       "312  1700251                Abreulândia - TO       2594   170025\n",
       "318  1701051                     Angico - TO       3454   170105\n",
       "332  1703057  Bandeirantes do Tocantins - TO       3592   170305\n",
       "337  1703602   Brasilândia do Tocantins - TO       2211   170360\n",
       "340  1703826               Cachoeirinha - TO       2284   170382"
      ]
     },
     "execution_count": 5,
     "metadata": {},
     "output_type": "execute_result"
    }
   ],
   "source": [
    "municipios_target = municipios[municipios['Populacao'] <= covid_deaths]\n",
    "municipios_target.head(10)"
   ]
  },
  {
   "cell_type": "code",
   "execution_count": 6,
   "metadata": {},
   "outputs": [],
   "source": [
    "#fonte: http://www.consultaesic.cgu.gov.br/busca/dados/Lists/Pedido/Item/displayifs.aspx?List=0c839f31%2D47d7%2D4485%2Dab65%2Dab0cee9cf8fe&ID=1012693&Web=88cc5f44%2D8cfe%2D4964%2D8ff4%2D376b5ebb3bef\n",
    "folder = '/Users/thiagocarvalho/Documents/databases/'\n",
    "df_latlong = pd.read_csv(folder+'Sedes_Coordenadas_Municipios.csv', sep=';')"
   ]
  },
  {
   "cell_type": "code",
   "execution_count": 7,
   "metadata": {},
   "outputs": [
    {
     "data": {
      "text/html": [
       "<div>\n",
       "<style scoped>\n",
       "    .dataframe tbody tr th:only-of-type {\n",
       "        vertical-align: middle;\n",
       "    }\n",
       "\n",
       "    .dataframe tbody tr th {\n",
       "        vertical-align: top;\n",
       "    }\n",
       "\n",
       "    .dataframe thead th {\n",
       "        text-align: right;\n",
       "    }\n",
       "</style>\n",
       "<table border=\"1\" class=\"dataframe\">\n",
       "  <thead>\n",
       "    <tr style=\"text-align: right;\">\n",
       "      <th></th>\n",
       "      <th>CODIGO MUNICIPIO</th>\n",
       "      <th>LATITUDE</th>\n",
       "      <th>LONGITUDE</th>\n",
       "    </tr>\n",
       "  </thead>\n",
       "  <tbody>\n",
       "    <tr>\n",
       "      <th>0</th>\n",
       "      <td>520005</td>\n",
       "      <td>-16.75</td>\n",
       "      <td>-49.43</td>\n",
       "    </tr>\n",
       "    <tr>\n",
       "      <th>1</th>\n",
       "      <td>310010</td>\n",
       "      <td>-18.48</td>\n",
       "      <td>-47.40</td>\n",
       "    </tr>\n",
       "  </tbody>\n",
       "</table>\n",
       "</div>"
      ],
      "text/plain": [
       "   CODIGO MUNICIPIO  LATITUDE  LONGITUDE\n",
       "0            520005    -16.75     -49.43\n",
       "1            310010    -18.48     -47.40"
      ]
     },
     "execution_count": 7,
     "metadata": {},
     "output_type": "execute_result"
    }
   ],
   "source": [
    "df_latlong.head(2)"
   ]
  },
  {
   "cell_type": "code",
   "execution_count": 8,
   "metadata": {},
   "outputs": [],
   "source": [
    "df_latlong.rename(columns={'CODIGO MUNICIPIO': 'Codigo2'}, inplace=True)"
   ]
  },
  {
   "cell_type": "code",
   "execution_count": 9,
   "metadata": {},
   "outputs": [
    {
     "name": "stdout",
     "output_type": "stream",
     "text": [
      "<class 'pandas.core.frame.DataFrame'>\n",
      "RangeIndex: 5570 entries, 0 to 5569\n",
      "Data columns (total 3 columns):\n",
      " #   Column     Non-Null Count  Dtype  \n",
      "---  ------     --------------  -----  \n",
      " 0   Codigo2    5570 non-null   int64  \n",
      " 1   LATITUDE   5570 non-null   float64\n",
      " 2   LONGITUDE  5570 non-null   float64\n",
      "dtypes: float64(2), int64(1)\n",
      "memory usage: 130.7 KB\n"
     ]
    }
   ],
   "source": [
    "df_latlong.info()"
   ]
  },
  {
   "cell_type": "code",
   "execution_count": 10,
   "metadata": {},
   "outputs": [
    {
     "data": {
      "text/html": [
       "<div>\n",
       "<style scoped>\n",
       "    .dataframe tbody tr th:only-of-type {\n",
       "        vertical-align: middle;\n",
       "    }\n",
       "\n",
       "    .dataframe tbody tr th {\n",
       "        vertical-align: top;\n",
       "    }\n",
       "\n",
       "    .dataframe thead th {\n",
       "        text-align: right;\n",
       "    }\n",
       "</style>\n",
       "<table border=\"1\" class=\"dataframe\">\n",
       "  <thead>\n",
       "    <tr style=\"text-align: right;\">\n",
       "      <th></th>\n",
       "      <th>Codigo</th>\n",
       "      <th>Municipio</th>\n",
       "      <th>Populacao</th>\n",
       "      <th>Codigo2</th>\n",
       "      <th>LATITUDE</th>\n",
       "      <th>LONGITUDE</th>\n",
       "    </tr>\n",
       "  </thead>\n",
       "  <tbody>\n",
       "    <tr>\n",
       "      <th>0</th>\n",
       "      <td>1100908</td>\n",
       "      <td>Castanheiras - RO</td>\n",
       "      <td>2987</td>\n",
       "      <td>110090</td>\n",
       "      <td>-11.42</td>\n",
       "      <td>-61.95</td>\n",
       "    </tr>\n",
       "    <tr>\n",
       "      <th>1</th>\n",
       "      <td>1101468</td>\n",
       "      <td>Pimenteiras do Oeste - RO</td>\n",
       "      <td>2148</td>\n",
       "      <td>110146</td>\n",
       "      <td>-13.48</td>\n",
       "      <td>-61.04</td>\n",
       "    </tr>\n",
       "    <tr>\n",
       "      <th>2</th>\n",
       "      <td>1101476</td>\n",
       "      <td>Primavera de Rondônia - RO</td>\n",
       "      <td>2776</td>\n",
       "      <td>110147</td>\n",
       "      <td>-11.82</td>\n",
       "      <td>-61.32</td>\n",
       "    </tr>\n",
       "    <tr>\n",
       "      <th>3</th>\n",
       "      <td>1302108</td>\n",
       "      <td>Japurá - AM</td>\n",
       "      <td>2251</td>\n",
       "      <td>130210</td>\n",
       "      <td>-1.82</td>\n",
       "      <td>-66.59</td>\n",
       "    </tr>\n",
       "    <tr>\n",
       "      <th>4</th>\n",
       "      <td>1501253</td>\n",
       "      <td>Bannach - PA</td>\n",
       "      <td>3262</td>\n",
       "      <td>150125</td>\n",
       "      <td>-7.34</td>\n",
       "      <td>-50.39</td>\n",
       "    </tr>\n",
       "    <tr>\n",
       "      <th>...</th>\n",
       "      <td>...</td>\n",
       "      <td>...</td>\n",
       "      <td>...</td>\n",
       "      <td>...</td>\n",
       "      <td>...</td>\n",
       "      <td>...</td>\n",
       "    </tr>\n",
       "    <tr>\n",
       "      <th>725</th>\n",
       "      <td>5221080</td>\n",
       "      <td>Teresina de Goiás - GO</td>\n",
       "      <td>3498</td>\n",
       "      <td>522108</td>\n",
       "      <td>-13.77</td>\n",
       "      <td>-47.26</td>\n",
       "    </tr>\n",
       "    <tr>\n",
       "      <th>726</th>\n",
       "      <td>5221304</td>\n",
       "      <td>Três Ranchos - GO</td>\n",
       "      <td>2830</td>\n",
       "      <td>522130</td>\n",
       "      <td>-18.35</td>\n",
       "      <td>-47.78</td>\n",
       "    </tr>\n",
       "    <tr>\n",
       "      <th>727</th>\n",
       "      <td>5221452</td>\n",
       "      <td>Trombas - GO</td>\n",
       "      <td>3498</td>\n",
       "      <td>522145</td>\n",
       "      <td>-13.50</td>\n",
       "      <td>-48.74</td>\n",
       "    </tr>\n",
       "    <tr>\n",
       "      <th>728</th>\n",
       "      <td>5221577</td>\n",
       "      <td>Uirapuru - GO</td>\n",
       "      <td>2840</td>\n",
       "      <td>522157</td>\n",
       "      <td>-14.28</td>\n",
       "      <td>-49.92</td>\n",
       "    </tr>\n",
       "    <tr>\n",
       "      <th>729</th>\n",
       "      <td>5221809</td>\n",
       "      <td>Urutaí - GO</td>\n",
       "      <td>3066</td>\n",
       "      <td>522180</td>\n",
       "      <td>-17.46</td>\n",
       "      <td>-48.20</td>\n",
       "    </tr>\n",
       "  </tbody>\n",
       "</table>\n",
       "<p>730 rows × 6 columns</p>\n",
       "</div>"
      ],
      "text/plain": [
       "      Codigo                   Municipio  Populacao  Codigo2  LATITUDE  \\\n",
       "0    1100908           Castanheiras - RO       2987   110090    -11.42   \n",
       "1    1101468   Pimenteiras do Oeste - RO       2148   110146    -13.48   \n",
       "2    1101476  Primavera de Rondônia - RO       2776   110147    -11.82   \n",
       "3    1302108                 Japurá - AM       2251   130210     -1.82   \n",
       "4    1501253                Bannach - PA       3262   150125     -7.34   \n",
       "..       ...                         ...        ...      ...       ...   \n",
       "725  5221080      Teresina de Goiás - GO       3498   522108    -13.77   \n",
       "726  5221304           Três Ranchos - GO       2830   522130    -18.35   \n",
       "727  5221452                Trombas - GO       3498   522145    -13.50   \n",
       "728  5221577               Uirapuru - GO       2840   522157    -14.28   \n",
       "729  5221809                 Urutaí - GO       3066   522180    -17.46   \n",
       "\n",
       "     LONGITUDE  \n",
       "0       -61.95  \n",
       "1       -61.04  \n",
       "2       -61.32  \n",
       "3       -66.59  \n",
       "4       -50.39  \n",
       "..         ...  \n",
       "725     -47.26  \n",
       "726     -47.78  \n",
       "727     -48.74  \n",
       "728     -49.92  \n",
       "729     -48.20  \n",
       "\n",
       "[730 rows x 6 columns]"
      ]
     },
     "execution_count": 10,
     "metadata": {},
     "output_type": "execute_result"
    }
   ],
   "source": [
    "municipios_target_latlong = municipios_target.merge(df_latlong, on='Codigo2')\n",
    "municipios_target_latlong"
   ]
  },
  {
   "cell_type": "markdown",
   "metadata": {},
   "source": [
    "# Todo\n",
    "\n",
    "- Retornar as mortes confirmadas (diárias) através de API\n",
    "- Usar o codigo do municipio para retornar (lat lon)\n"
   ]
  },
  {
   "cell_type": "code",
   "execution_count": null,
   "metadata": {},
   "outputs": [],
   "source": [
    "#Oficial \n",
    "#https://susanalitico.saude.gov.br/extensions/covid-19_html/covid-19_html.html\n",
    "#https://s3-sa-east-1.amazonaws.com/ckan.saude.gov.br/SRAG/2020/INFLUD-22-03-2021.csv\n",
    "#https://transparencia.registrocivil.org.br/especial-covid\n",
    "#https://covid.saude.gov.br/\n",
    "\n",
    "#Oficosos\n",
    "#https://brasil.io/dataset/covid19/caso_full/"
   ]
  },
  {
   "cell_type": "code",
   "execution_count": null,
   "metadata": {},
   "outputs": [],
   "source": []
  },
  {
   "cell_type": "code",
   "execution_count": null,
   "metadata": {},
   "outputs": [],
   "source": []
  },
  {
   "cell_type": "code",
   "execution_count": null,
   "metadata": {},
   "outputs": [],
   "source": []
  }
 ],
 "metadata": {
  "kernelspec": {
   "display_name": "Python 3",
   "language": "python",
   "name": "python3"
  },
  "language_info": {
   "codemirror_mode": {
    "name": "ipython",
    "version": 3
   },
   "file_extension": ".py",
   "mimetype": "text/x-python",
   "name": "python",
   "nbconvert_exporter": "python",
   "pygments_lexer": "ipython3",
   "version": "3.8.5"
  }
 },
 "nbformat": 4,
 "nbformat_minor": 5
}
