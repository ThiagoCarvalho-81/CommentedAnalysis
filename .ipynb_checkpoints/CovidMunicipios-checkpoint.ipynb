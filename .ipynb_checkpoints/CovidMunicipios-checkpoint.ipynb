{
 "cells": [
  {
   "cell_type": "code",
   "execution_count": 76,
   "id": "documentary-wesley",
   "metadata": {},
   "outputs": [],
   "source": [
    "import pandas as pd\n",
    "covid_deaths = 3650 "
   ]
  },
  {
   "cell_type": "code",
   "execution_count": 77,
   "id": "hollywood-preparation",
   "metadata": {},
   "outputs": [],
   "source": [
    "url_populacao = 'http://api.sidra.ibge.gov.br/values/t/6579/P/2020/n6/all?formato=json'\n",
    "municipios = pd.read_json(url_populacao)[1:]"
   ]
  },
  {
   "cell_type": "code",
   "execution_count": 78,
   "id": "exotic-application",
   "metadata": {},
   "outputs": [],
   "source": [
    "municipios.rename(columns={\"D2C\": \"Codigo\", \"D2N\": \"Municipio\", \"V\":\"Populacao\"}, inplace=True)\n",
    "municipios = municipios[['Codigo', 'Municipio', 'Populacao']]\n",
    "municipios['Populacao'] = pd.to_numeric(municipios['Populacao'])\n",
    "\n",
    "# Usar o codigo do municipio para retornar (lat lon)"
   ]
  },
  {
   "cell_type": "code",
   "execution_count": 79,
   "id": "hungry-pleasure",
   "metadata": {},
   "outputs": [
    {
     "data": {
      "text/html": [
       "<div>\n",
       "<style scoped>\n",
       "    .dataframe tbody tr th:only-of-type {\n",
       "        vertical-align: middle;\n",
       "    }\n",
       "\n",
       "    .dataframe tbody tr th {\n",
       "        vertical-align: top;\n",
       "    }\n",
       "\n",
       "    .dataframe thead th {\n",
       "        text-align: right;\n",
       "    }\n",
       "</style>\n",
       "<table border=\"1\" class=\"dataframe\">\n",
       "  <thead>\n",
       "    <tr style=\"text-align: right;\">\n",
       "      <th></th>\n",
       "      <th>Codigo</th>\n",
       "      <th>Municipio</th>\n",
       "      <th>Populacao</th>\n",
       "    </tr>\n",
       "  </thead>\n",
       "  <tbody>\n",
       "    <tr>\n",
       "      <th>33</th>\n",
       "      <td>1100908</td>\n",
       "      <td>Castanheiras - RO</td>\n",
       "      <td>2987</td>\n",
       "    </tr>\n",
       "    <tr>\n",
       "      <th>43</th>\n",
       "      <td>1101468</td>\n",
       "      <td>Pimenteiras do Oeste - RO</td>\n",
       "      <td>2148</td>\n",
       "    </tr>\n",
       "    <tr>\n",
       "      <th>44</th>\n",
       "      <td>1101476</td>\n",
       "      <td>Primavera de Rondônia - RO</td>\n",
       "      <td>2776</td>\n",
       "    </tr>\n",
       "    <tr>\n",
       "      <th>106</th>\n",
       "      <td>1302108</td>\n",
       "      <td>Japurá - AM</td>\n",
       "      <td>2251</td>\n",
       "    </tr>\n",
       "    <tr>\n",
       "      <th>168</th>\n",
       "      <td>1501253</td>\n",
       "      <td>Bannach - PA</td>\n",
       "      <td>3262</td>\n",
       "    </tr>\n",
       "    <tr>\n",
       "      <th>...</th>\n",
       "      <td>...</td>\n",
       "      <td>...</td>\n",
       "      <td>...</td>\n",
       "    </tr>\n",
       "    <tr>\n",
       "      <th>5553</th>\n",
       "      <td>5221080</td>\n",
       "      <td>Teresina de Goiás - GO</td>\n",
       "      <td>3498</td>\n",
       "    </tr>\n",
       "    <tr>\n",
       "      <th>5555</th>\n",
       "      <td>5221304</td>\n",
       "      <td>Três Ranchos - GO</td>\n",
       "      <td>2830</td>\n",
       "    </tr>\n",
       "    <tr>\n",
       "      <th>5557</th>\n",
       "      <td>5221452</td>\n",
       "      <td>Trombas - GO</td>\n",
       "      <td>3498</td>\n",
       "    </tr>\n",
       "    <tr>\n",
       "      <th>5560</th>\n",
       "      <td>5221577</td>\n",
       "      <td>Uirapuru - GO</td>\n",
       "      <td>2840</td>\n",
       "    </tr>\n",
       "    <tr>\n",
       "      <th>5563</th>\n",
       "      <td>5221809</td>\n",
       "      <td>Urutaí - GO</td>\n",
       "      <td>3066</td>\n",
       "    </tr>\n",
       "  </tbody>\n",
       "</table>\n",
       "<p>730 rows × 3 columns</p>\n",
       "</div>"
      ],
      "text/plain": [
       "       Codigo                   Municipio  Populacao\n",
       "33    1100908           Castanheiras - RO       2987\n",
       "43    1101468   Pimenteiras do Oeste - RO       2148\n",
       "44    1101476  Primavera de Rondônia - RO       2776\n",
       "106   1302108                 Japurá - AM       2251\n",
       "168   1501253                Bannach - PA       3262\n",
       "...       ...                         ...        ...\n",
       "5553  5221080      Teresina de Goiás - GO       3498\n",
       "5555  5221304           Três Ranchos - GO       2830\n",
       "5557  5221452                Trombas - GO       3498\n",
       "5560  5221577               Uirapuru - GO       2840\n",
       "5563  5221809                 Urutaí - GO       3066\n",
       "\n",
       "[730 rows x 3 columns]"
      ]
     },
     "execution_count": 79,
     "metadata": {},
     "output_type": "execute_result"
    }
   ],
   "source": [
    "municipios[municipios['Populacao'] <= covid_deaths]"
   ]
  },
  {
   "cell_type": "markdown",
   "id": "through-harrison",
   "metadata": {},
   "source": [
    "# Todo\n",
    "\n",
    "- Retornar as mortes confirmadas (diárias) através de API\n",
    "- Usar o codigo do municipio para retornar (lat lon)\n"
   ]
  },
  {
   "cell_type": "code",
   "execution_count": null,
   "id": "tropical-print",
   "metadata": {},
   "outputs": [],
   "source": []
  }
 ],
 "metadata": {
  "kernelspec": {
   "display_name": "Python 3",
   "language": "python",
   "name": "python3"
  },
  "language_info": {
   "codemirror_mode": {
    "name": "ipython",
    "version": 3
   },
   "file_extension": ".py",
   "mimetype": "text/x-python",
   "name": "python",
   "nbconvert_exporter": "python",
   "pygments_lexer": "ipython3",
   "version": "3.6.9"
  }
 },
 "nbformat": 4,
 "nbformat_minor": 5
}
